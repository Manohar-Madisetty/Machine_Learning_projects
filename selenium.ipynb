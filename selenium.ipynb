{
 "cells": [
  {
   "cell_type": "code",
   "execution_count": 1,
   "metadata": {},
   "outputs": [
    {
     "name": "stdout",
     "output_type": "stream",
     "text": [
      "Collecting selenium\n",
      "  Downloading selenium-4.15.2-py3-none-any.whl.metadata (6.9 kB)\n",
      "Requirement already satisfied: urllib3<3,>=1.26 in c:\\users\\manoharmadisetty\\appdata\\local\\programs\\python\\python311\\lib\\site-packages (from urllib3[socks]<3,>=1.26->selenium) (2.1.0)\n",
      "Collecting trio~=0.17 (from selenium)\n",
      "  Downloading trio-0.23.1-py3-none-any.whl.metadata (4.9 kB)\n",
      "Collecting trio-websocket~=0.9 (from selenium)\n",
      "  Downloading trio_websocket-0.11.1-py3-none-any.whl.metadata (4.7 kB)\n",
      "Requirement already satisfied: certifi>=2021.10.8 in c:\\users\\manoharmadisetty\\appdata\\local\\programs\\python\\python311\\lib\\site-packages (from selenium) (2023.11.17)\n",
      "Collecting attrs>=20.1.0 (from trio~=0.17->selenium)\n",
      "  Downloading attrs-23.1.0-py3-none-any.whl (61 kB)\n",
      "     ---------------------------------------- 0.0/61.2 kB ? eta -:--:--\n",
      "     ------------------------- ------------ 41.0/61.2 kB 653.6 kB/s eta 0:00:01\n",
      "     -------------------------------------- 61.2/61.2 kB 808.3 kB/s eta 0:00:00\n",
      "Collecting sortedcontainers (from trio~=0.17->selenium)\n",
      "  Downloading sortedcontainers-2.4.0-py2.py3-none-any.whl (29 kB)\n",
      "Requirement already satisfied: idna in c:\\users\\manoharmadisetty\\appdata\\local\\programs\\python\\python311\\lib\\site-packages (from trio~=0.17->selenium) (3.6)\n",
      "Collecting outcome (from trio~=0.17->selenium)\n",
      "  Downloading outcome-1.3.0.post0-py2.py3-none-any.whl.metadata (2.6 kB)\n",
      "Collecting sniffio>=1.3.0 (from trio~=0.17->selenium)\n",
      "  Downloading sniffio-1.3.0-py3-none-any.whl (10 kB)\n",
      "Collecting cffi>=1.14 (from trio~=0.17->selenium)\n",
      "  Downloading cffi-1.16.0-cp311-cp311-win_amd64.whl.metadata (1.5 kB)\n",
      "Collecting wsproto>=0.14 (from trio-websocket~=0.9->selenium)\n",
      "  Downloading wsproto-1.2.0-py3-none-any.whl (24 kB)\n",
      "Collecting pysocks!=1.5.7,<2.0,>=1.5.6 (from urllib3[socks]<3,>=1.26->selenium)\n",
      "  Downloading PySocks-1.7.1-py3-none-any.whl (16 kB)\n",
      "Collecting pycparser (from cffi>=1.14->trio~=0.17->selenium)\n",
      "  Downloading pycparser-2.21-py2.py3-none-any.whl (118 kB)\n",
      "     ---------------------------------------- 0.0/118.7 kB ? eta -:--:--\n",
      "     ------------------------------ -------- 92.2/118.7 kB 5.1 MB/s eta 0:00:01\n",
      "     -------------------------------------- 118.7/118.7 kB 1.7 MB/s eta 0:00:00\n",
      "Collecting h11<1,>=0.9.0 (from wsproto>=0.14->trio-websocket~=0.9->selenium)\n",
      "  Downloading h11-0.14.0-py3-none-any.whl (58 kB)\n",
      "     ---------------------------------------- 0.0/58.3 kB ? eta -:--:--\n",
      "     ---------------------------------------- 58.3/58.3 kB ? eta 0:00:00\n",
      "Downloading selenium-4.15.2-py3-none-any.whl (10.2 MB)\n",
      "   ---------------------------------------- 0.0/10.2 MB ? eta -:--:--\n",
      "    --------------------------------------- 0.2/10.2 MB 13.0 MB/s eta 0:00:01\n",
      "   - -------------------------------------- 0.5/10.2 MB 7.4 MB/s eta 0:00:02\n",
      "   --- ------------------------------------ 1.0/10.2 MB 7.9 MB/s eta 0:00:02\n",
      "   ------ --------------------------------- 1.6/10.2 MB 9.4 MB/s eta 0:00:01\n",
      "   ---------- ----------------------------- 2.7/10.2 MB 12.4 MB/s eta 0:00:01\n",
      "   --------------- ------------------------ 4.0/10.2 MB 14.9 MB/s eta 0:00:01\n",
      "   ------------------- -------------------- 4.9/10.2 MB 16.5 MB/s eta 0:00:01\n",
      "   ------------------------ --------------- 6.2/10.2 MB 17.1 MB/s eta 0:00:01\n",
      "   ----------------------------- ---------- 7.4/10.2 MB 18.3 MB/s eta 0:00:01\n",
      "   --------------------------------- ------ 8.6/10.2 MB 19.0 MB/s eta 0:00:01\n",
      "   ---------------------------------------  9.9/10.2 MB 19.8 MB/s eta 0:00:01\n",
      "   ---------------------------------------  10.2/10.2 MB 19.7 MB/s eta 0:00:01\n",
      "   ---------------------------------------- 10.2/10.2 MB 18.1 MB/s eta 0:00:00\n",
      "Downloading trio-0.23.1-py3-none-any.whl (448 kB)\n",
      "   ---------------------------------------- 0.0/448.3 kB ? eta -:--:--\n",
      "   --------------------------------------- 448.3/448.3 kB 13.7 MB/s eta 0:00:00\n",
      "Downloading trio_websocket-0.11.1-py3-none-any.whl (17 kB)\n",
      "Downloading cffi-1.16.0-cp311-cp311-win_amd64.whl (181 kB)\n",
      "   ---------------------------------------- 0.0/181.5 kB ? eta -:--:--\n",
      "   --------------------------------------- 181.5/181.5 kB 11.4 MB/s eta 0:00:00\n",
      "Downloading outcome-1.3.0.post0-py2.py3-none-any.whl (10 kB)\n",
      "Installing collected packages: sortedcontainers, sniffio, pysocks, pycparser, h11, attrs, wsproto, outcome, cffi, trio, trio-websocket, selenium\n",
      "Successfully installed attrs-23.1.0 cffi-1.16.0 h11-0.14.0 outcome-1.3.0.post0 pycparser-2.21 pysocks-1.7.1 selenium-4.15.2 sniffio-1.3.0 sortedcontainers-2.4.0 trio-0.23.1 trio-websocket-0.11.1 wsproto-1.2.0\n",
      "Note: you may need to restart the kernel to use updated packages.\n"
     ]
    }
   ],
   "source": [
    "%pip install selenium"
   ]
  },
  {
   "cell_type": "code",
   "execution_count": 35,
   "metadata": {},
   "outputs": [
    {
     "ename": "TimeoutException",
     "evalue": "Message: \nStacktrace:\n\tGetHandleVerifier [0x00007FF6BE1382B2+55298]\n\t(No symbol) [0x00007FF6BE0A5E02]\n\t(No symbol) [0x00007FF6BDF605AB]\n\t(No symbol) [0x00007FF6BDFA175C]\n\t(No symbol) [0x00007FF6BDFA18DC]\n\t(No symbol) [0x00007FF6BDFDCBC7]\n\t(No symbol) [0x00007FF6BDFC20EF]\n\t(No symbol) [0x00007FF6BDFDAAA4]\n\t(No symbol) [0x00007FF6BDFC1E83]\n\t(No symbol) [0x00007FF6BDF9670A]\n\t(No symbol) [0x00007FF6BDF97964]\n\tGetHandleVerifier [0x00007FF6BE4B0AAB+3694587]\n\tGetHandleVerifier [0x00007FF6BE50728E+4048862]\n\tGetHandleVerifier [0x00007FF6BE4FF173+4015811]\n\tGetHandleVerifier [0x00007FF6BE1D47D6+695590]\n\t(No symbol) [0x00007FF6BE0B0CE8]\n\t(No symbol) [0x00007FF6BE0ACF34]\n\t(No symbol) [0x00007FF6BE0AD062]\n\t(No symbol) [0x00007FF6BE09D3A3]\n\tBaseThreadInitThunk [0x00007FFFE5367344+20]\n\tRtlUserThreadStart [0x00007FFFE54A26B1+33]\n",
     "output_type": "error",
     "traceback": [
      "\u001b[1;31m---------------------------------------------------------------------------\u001b[0m",
      "\u001b[1;31mTimeoutException\u001b[0m                          Traceback (most recent call last)",
      "\u001b[1;32mc:\\Users\\ManoharMadisetty\\ML_Learning\\selenium.ipynb Cell 3\u001b[0m line \u001b[0;36m2\n\u001b[0;32m     <a href='vscode-notebook-cell:/c%3A/Users/ManoharMadisetty/ML_Learning/selenium.ipynb#W1sZmlsZQ%3D%3D?line=20'>21</a>\u001b[0m driver\u001b[39m.\u001b[39mget(\u001b[39mf\u001b[39m\u001b[39m\"\u001b[39m\u001b[39mhttps://www.screener.in/company/\u001b[39m\u001b[39m{\u001b[39;00mi\u001b[39m}\u001b[39;00m\u001b[39m\"\u001b[39m)\n\u001b[0;32m     <a href='vscode-notebook-cell:/c%3A/Users/ManoharMadisetty/ML_Learning/selenium.ipynb#W1sZmlsZQ%3D%3D?line=22'>23</a>\u001b[0m \u001b[39m# Wait for an element to be clickable\u001b[39;00m\n\u001b[0;32m     <a href='vscode-notebook-cell:/c%3A/Users/ManoharMadisetty/ML_Learning/selenium.ipynb#W1sZmlsZQ%3D%3D?line=23'>24</a>\u001b[0m \u001b[39m# elements = WebDriverWait(driver, 10).until(\u001b[39;00m\n\u001b[0;32m     <a href='vscode-notebook-cell:/c%3A/Users/ManoharMadisetty/ML_Learning/selenium.ipynb#W1sZmlsZQ%3D%3D?line=24'>25</a>\u001b[0m \u001b[39m#     EC.find_elements_by_xpath((By.XPATH, \"/html/body/main/section[5]/div[2]/table/tbody/tr[1]/td[1]/button/span\"))\u001b[39;00m\n\u001b[0;32m     <a href='vscode-notebook-cell:/c%3A/Users/ManoharMadisetty/ML_Learning/selenium.ipynb#W1sZmlsZQ%3D%3D?line=25'>26</a>\u001b[0m \u001b[39m# )\u001b[39;00m\n\u001b[1;32m---> <a href='vscode-notebook-cell:/c%3A/Users/ManoharMadisetty/ML_Learning/selenium.ipynb#W1sZmlsZQ%3D%3D?line=27'>28</a>\u001b[0m element1 \u001b[39m=\u001b[39m WebDriverWait(driver, \u001b[39m20\u001b[39;49m)\u001b[39m.\u001b[39;49muntil(\n\u001b[0;32m     <a href='vscode-notebook-cell:/c%3A/Users/ManoharMadisetty/ML_Learning/selenium.ipynb#W1sZmlsZQ%3D%3D?line=28'>29</a>\u001b[0m     EC\u001b[39m.\u001b[39;49mvisibility_of_element_located((By\u001b[39m.\u001b[39;49mXPATH, \u001b[39m\"\u001b[39;49m\u001b[39m/html/body/main/section[4]/div[2]/table/tbody/tr[1]/td[1]/button/span\u001b[39;49m\u001b[39m\"\u001b[39;49m)))\n\u001b[0;32m     <a href='vscode-notebook-cell:/c%3A/Users/ManoharMadisetty/ML_Learning/selenium.ipynb#W1sZmlsZQ%3D%3D?line=30'>31</a>\u001b[0m element1\u001b[39m.\u001b[39mclick()\n\u001b[0;32m     <a href='vscode-notebook-cell:/c%3A/Users/ManoharMadisetty/ML_Learning/selenium.ipynb#W1sZmlsZQ%3D%3D?line=32'>33</a>\u001b[0m time\u001b[39m.\u001b[39msleep(\u001b[39m5\u001b[39m)\n",
      "File \u001b[1;32mc:\\Users\\ManoharMadisetty\\AppData\\Local\\Programs\\Python\\Python311\\Lib\\site-packages\\selenium\\webdriver\\support\\wait.py:101\u001b[0m, in \u001b[0;36mWebDriverWait.until\u001b[1;34m(self, method, message)\u001b[0m\n\u001b[0;32m     99\u001b[0m     \u001b[39mif\u001b[39;00m time\u001b[39m.\u001b[39mmonotonic() \u001b[39m>\u001b[39m end_time:\n\u001b[0;32m    100\u001b[0m         \u001b[39mbreak\u001b[39;00m\n\u001b[1;32m--> 101\u001b[0m \u001b[39mraise\u001b[39;00m TimeoutException(message, screen, stacktrace)\n",
      "\u001b[1;31mTimeoutException\u001b[0m: Message: \nStacktrace:\n\tGetHandleVerifier [0x00007FF6BE1382B2+55298]\n\t(No symbol) [0x00007FF6BE0A5E02]\n\t(No symbol) [0x00007FF6BDF605AB]\n\t(No symbol) [0x00007FF6BDFA175C]\n\t(No symbol) [0x00007FF6BDFA18DC]\n\t(No symbol) [0x00007FF6BDFDCBC7]\n\t(No symbol) [0x00007FF6BDFC20EF]\n\t(No symbol) [0x00007FF6BDFDAAA4]\n\t(No symbol) [0x00007FF6BDFC1E83]\n\t(No symbol) [0x00007FF6BDF9670A]\n\t(No symbol) [0x00007FF6BDF97964]\n\tGetHandleVerifier [0x00007FF6BE4B0AAB+3694587]\n\tGetHandleVerifier [0x00007FF6BE50728E+4048862]\n\tGetHandleVerifier [0x00007FF6BE4FF173+4015811]\n\tGetHandleVerifier [0x00007FF6BE1D47D6+695590]\n\t(No symbol) [0x00007FF6BE0B0CE8]\n\t(No symbol) [0x00007FF6BE0ACF34]\n\t(No symbol) [0x00007FF6BE0AD062]\n\t(No symbol) [0x00007FF6BE09D3A3]\n\tBaseThreadInitThunk [0x00007FFFE5367344+20]\n\tRtlUserThreadStart [0x00007FFFE54A26B1+33]\n"
     ]
    }
   ],
   "source": [
    "from selenium import webdriver\n",
    "from selenium.webdriver.common.by import By\n",
    "from selenium.webdriver.support.ui import WebDriverWait\n",
    "from selenium.webdriver.support import expected_conditions as EC\n",
    "import time\n",
    "from selenium.webdriver.chrome.service import Service\n",
    "\n",
    "# Set the path to chromedriver.exe\n",
    "chromedriver_path = \"C:/Users/ManoharMadisetty/OneDrive - Computech Corporation/Desktop/Data Engineering Notes/Selenium/new/chromedriver-win64/chromedriver.exe\"\n",
    "\n",
    "# Set up the Chrome service\n",
    "s = Service(chromedriver_path)\n",
    "\n",
    "# Create a new instance of the Chrome driver\n",
    "driver = webdriver.Chrome(service=s)\n",
    "\n",
    "list1 = ['IDFCFIRSTB']\n",
    "\n",
    "for i in list1:\n",
    "    # Open the URL in the browser\n",
    "    driver.get(f\"https://www.screener.in/company/{i}\")\n",
    "\n",
    "    # Wait for an element to be clickable\n",
    "    # elements = WebDriverWait(driver, 10).until(\n",
    "    #     EC.find_elements_by_xpath((By.XPATH, \"/html/body/main/section[5]/div[2]/table/tbody/tr[1]/td[1]/button/span\"))\n",
    "    # )\n",
    "\n",
    "    element1 = WebDriverWait(driver, 20).until(\n",
    "        EC.visibility_of_element_located((By.XPATH, \"/html/body/main/section[4]/div[2]/table/tbody/tr[1]/td[1]/button/span\")))\n",
    "\n",
    "    element1.click()\n",
    "\n",
    "    time.sleep(5)\n",
    "\n",
    "    element2 = WebDriverWait(driver, 20).until(\n",
    "        EC.visibility_of_element_located((By.XPATH, \"/html/body/main/section[5]/div[2]/table/tbody/tr[1]/td[1]/button/span\"))\n",
    "    )\n",
    "\n",
    "    element2.click()\n",
    "\n",
    "\n",
    "# print('Elements:',elements)\n",
    "\n",
    "# for element in elements:\n",
    "#     print('Element:',element)\n",
    "#     # Perform an action after the element is clickable\n",
    "#     element.click()\n",
    "\n",
    "# Rest of your code...\n"
   ]
  },
  {
   "cell_type": "code",
   "execution_count": null,
   "metadata": {},
   "outputs": [],
   "source": []
  }
 ],
 "metadata": {
  "kernelspec": {
   "display_name": "Python 3",
   "language": "python",
   "name": "python3"
  },
  "language_info": {
   "codemirror_mode": {
    "name": "ipython",
    "version": 3
   },
   "file_extension": ".py",
   "mimetype": "text/x-python",
   "name": "python",
   "nbconvert_exporter": "python",
   "pygments_lexer": "ipython3",
   "version": "3.11.1"
  }
 },
 "nbformat": 4,
 "nbformat_minor": 2
}
