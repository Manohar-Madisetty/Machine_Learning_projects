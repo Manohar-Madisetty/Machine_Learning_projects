{
 "cells": [
  {
   "cell_type": "code",
   "execution_count": 3,
   "metadata": {},
   "outputs": [
    {
     "name": "stdout",
     "output_type": "stream",
     "text": [
      "83\n",
      "              Sector_Name\n",
      "0          Agro Chemicals\n",
      "1   Air Transport Service\n",
      "2     Alcoholic Beverages\n",
      "3        Auto Ancillaries\n",
      "4              Automobile\n",
      "..                    ...\n",
      "78       Telecomm-Service\n",
      "79               Textiles\n",
      "80       Tobacco Products\n",
      "81                Trading\n",
      "82                  Tyres\n",
      "\n",
      "[83 rows x 1 columns]\n"
     ]
    }
   ],
   "source": [
    "from lxml import html\n",
    "import requests\n",
    "from bs4 import BeautifulSoup\n",
    "import pandas as pd\n",
    "\n",
    "url = \"https://www.screener.in/explore/\"\n",
    "\n",
    "response = requests.get(url)\n",
    "\n",
    "if response.status_code==200:\n",
    "    soup = BeautifulSoup(response.text,\"html.parser\")\n",
    "\n",
    "    main_sector= soup.find_all(\"div\", class_ = \"flex-row flex-gap-12\")\n",
    "\n",
    "# print(main_sector)\n",
    "    sector_names = []\n",
    "    for sector in main_sector:\n",
    "        lines = sector.find_all(\"a\", class_ = \"bordered radius-6 padding-4-12 font-size-14 ink-700\")\n",
    "        print(len(lines))\n",
    "        # print(lines)\n",
    "        for line in lines:\n",
    "            extract_text = line.text.strip()\n",
    "            # print(extract_text)\n",
    "            sector_names.append(extract_text)\n",
    "            \n",
    "    # print(sector_names)\n",
    "\n",
    "    columns_names = ['Sector_Name']\n",
    "    for col in columns_names:\n",
    "        df = pd.DataFrame(data = sector_names,columns=columns_names )\n",
    "        # print(df)\n",
    "\n",
    "        df.to_csv(f\"{col}\")\n",
    "else:\n",
    "    print(f\"Failed and Status code: {response.status_code}\")\n",
    "\n",
    "#     # sectors_data = sectors.find_all()\n",
    "# <a class=\"bordered radius-6 padding-4-12 font-size-14 ink-700\" href=\"/company/compare/00000001/\">Agro Chemicals</a>\n",
    "# <a class=\"bordered radius-6 padding-4-12 font-size-14 ink-700\" href=\"/company/compare/00000002/\">Air Transport Service</a>"
   ]
  }
 ],
 "metadata": {
  "kernelspec": {
   "display_name": "Python 3",
   "language": "python",
   "name": "python3"
  },
  "language_info": {
   "codemirror_mode": {
    "name": "ipython",
    "version": 3
   },
   "file_extension": ".py",
   "mimetype": "text/x-python",
   "name": "python",
   "nbconvert_exporter": "python",
   "pygments_lexer": "ipython3",
   "version": "3.11.1"
  }
 },
 "nbformat": 4,
 "nbformat_minor": 2
}
